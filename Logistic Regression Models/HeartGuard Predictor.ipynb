{
 "cells": [
  {
   "cell_type": "markdown",
   "id": "f6ce2c95",
   "metadata": {},
   "source": [
    "# Project Name ---> HeartGuard Predictor\n",
    "### Logistic Regression (Classification) Basic model "
   ]
  },
  {
   "cell_type": "code",
   "execution_count": 244,
   "id": "123896da",
   "metadata": {},
   "outputs": [],
   "source": [
    "# importing requred libraries\n",
    "import pandas as pd\n",
    "import numpy as np\n",
    "import matplotlib.pyplot as plt\n",
    "import seaborn as sns\n",
    "from sklearn.linear_model import LogisticRegression\n",
    "from sklearn.model_selection import train_test_split\n",
    "from sklearn.preprocessing import OneHotEncoder\n",
    "from sklearn.compose import ColumnTransformer\n",
    "from sklearn.metrics import roc_auc_score , roc_curve , f1_score , class_likelihood_ratios\n",
    "from sklearn.metrics import confusion_matrix\n",
    "from sklearn.preprocessing import StandardScaler\n",
    "from sklearn.metrics import f1_score , classification_report , confusion_matrix , roc_auc_score , roc_curve"
   ]
  },
  {
   "cell_type": "code",
   "execution_count": 245,
   "id": "b0ccb9f8",
   "metadata": {},
   "outputs": [],
   "source": [
    "# loading datsets CSV\n",
    "\n",
    "file_path = r\"C:\\Users\\Ravichandran\\OneDrive\\Desktop\\logistic regression projects\\heart_disease_uci.csv\"\n",
    "heart_data = pd.read_csv(file_path)\n"
   ]
  },
  {
   "cell_type": "code",
   "execution_count": 246,
   "id": "d5ac2509",
   "metadata": {},
   "outputs": [
    {
     "data": {
      "text/html": [
       "<div>\n",
       "<style scoped>\n",
       "    .dataframe tbody tr th:only-of-type {\n",
       "        vertical-align: middle;\n",
       "    }\n",
       "\n",
       "    .dataframe tbody tr th {\n",
       "        vertical-align: top;\n",
       "    }\n",
       "\n",
       "    .dataframe thead th {\n",
       "        text-align: right;\n",
       "    }\n",
       "</style>\n",
       "<table border=\"1\" class=\"dataframe\">\n",
       "  <thead>\n",
       "    <tr style=\"text-align: right;\">\n",
       "      <th></th>\n",
       "      <th>id</th>\n",
       "      <th>age</th>\n",
       "      <th>sex</th>\n",
       "      <th>dataset</th>\n",
       "      <th>cp</th>\n",
       "      <th>trestbps</th>\n",
       "      <th>chol</th>\n",
       "      <th>fbs</th>\n",
       "      <th>restecg</th>\n",
       "      <th>thalch</th>\n",
       "      <th>exang</th>\n",
       "      <th>oldpeak</th>\n",
       "      <th>slope</th>\n",
       "      <th>ca</th>\n",
       "      <th>thal</th>\n",
       "      <th>num</th>\n",
       "    </tr>\n",
       "  </thead>\n",
       "  <tbody>\n",
       "    <tr>\n",
       "      <th>0</th>\n",
       "      <td>1</td>\n",
       "      <td>63</td>\n",
       "      <td>Male</td>\n",
       "      <td>Cleveland</td>\n",
       "      <td>typical angina</td>\n",
       "      <td>145.0</td>\n",
       "      <td>233.0</td>\n",
       "      <td>True</td>\n",
       "      <td>lv hypertrophy</td>\n",
       "      <td>150.0</td>\n",
       "      <td>False</td>\n",
       "      <td>2.3</td>\n",
       "      <td>downsloping</td>\n",
       "      <td>0.0</td>\n",
       "      <td>fixed defect</td>\n",
       "      <td>0</td>\n",
       "    </tr>\n",
       "    <tr>\n",
       "      <th>1</th>\n",
       "      <td>2</td>\n",
       "      <td>67</td>\n",
       "      <td>Male</td>\n",
       "      <td>Cleveland</td>\n",
       "      <td>asymptomatic</td>\n",
       "      <td>160.0</td>\n",
       "      <td>286.0</td>\n",
       "      <td>False</td>\n",
       "      <td>lv hypertrophy</td>\n",
       "      <td>108.0</td>\n",
       "      <td>True</td>\n",
       "      <td>1.5</td>\n",
       "      <td>flat</td>\n",
       "      <td>3.0</td>\n",
       "      <td>normal</td>\n",
       "      <td>2</td>\n",
       "    </tr>\n",
       "    <tr>\n",
       "      <th>2</th>\n",
       "      <td>3</td>\n",
       "      <td>67</td>\n",
       "      <td>Male</td>\n",
       "      <td>Cleveland</td>\n",
       "      <td>asymptomatic</td>\n",
       "      <td>120.0</td>\n",
       "      <td>229.0</td>\n",
       "      <td>False</td>\n",
       "      <td>lv hypertrophy</td>\n",
       "      <td>129.0</td>\n",
       "      <td>True</td>\n",
       "      <td>2.6</td>\n",
       "      <td>flat</td>\n",
       "      <td>2.0</td>\n",
       "      <td>reversable defect</td>\n",
       "      <td>1</td>\n",
       "    </tr>\n",
       "    <tr>\n",
       "      <th>3</th>\n",
       "      <td>4</td>\n",
       "      <td>37</td>\n",
       "      <td>Male</td>\n",
       "      <td>Cleveland</td>\n",
       "      <td>non-anginal</td>\n",
       "      <td>130.0</td>\n",
       "      <td>250.0</td>\n",
       "      <td>False</td>\n",
       "      <td>normal</td>\n",
       "      <td>187.0</td>\n",
       "      <td>False</td>\n",
       "      <td>3.5</td>\n",
       "      <td>downsloping</td>\n",
       "      <td>0.0</td>\n",
       "      <td>normal</td>\n",
       "      <td>0</td>\n",
       "    </tr>\n",
       "    <tr>\n",
       "      <th>4</th>\n",
       "      <td>5</td>\n",
       "      <td>41</td>\n",
       "      <td>Female</td>\n",
       "      <td>Cleveland</td>\n",
       "      <td>atypical angina</td>\n",
       "      <td>130.0</td>\n",
       "      <td>204.0</td>\n",
       "      <td>False</td>\n",
       "      <td>lv hypertrophy</td>\n",
       "      <td>172.0</td>\n",
       "      <td>False</td>\n",
       "      <td>1.4</td>\n",
       "      <td>upsloping</td>\n",
       "      <td>0.0</td>\n",
       "      <td>normal</td>\n",
       "      <td>0</td>\n",
       "    </tr>\n",
       "    <tr>\n",
       "      <th>...</th>\n",
       "      <td>...</td>\n",
       "      <td>...</td>\n",
       "      <td>...</td>\n",
       "      <td>...</td>\n",
       "      <td>...</td>\n",
       "      <td>...</td>\n",
       "      <td>...</td>\n",
       "      <td>...</td>\n",
       "      <td>...</td>\n",
       "      <td>...</td>\n",
       "      <td>...</td>\n",
       "      <td>...</td>\n",
       "      <td>...</td>\n",
       "      <td>...</td>\n",
       "      <td>...</td>\n",
       "      <td>...</td>\n",
       "    </tr>\n",
       "    <tr>\n",
       "      <th>915</th>\n",
       "      <td>916</td>\n",
       "      <td>54</td>\n",
       "      <td>Female</td>\n",
       "      <td>VA Long Beach</td>\n",
       "      <td>asymptomatic</td>\n",
       "      <td>127.0</td>\n",
       "      <td>333.0</td>\n",
       "      <td>True</td>\n",
       "      <td>st-t abnormality</td>\n",
       "      <td>154.0</td>\n",
       "      <td>False</td>\n",
       "      <td>0.0</td>\n",
       "      <td>NaN</td>\n",
       "      <td>NaN</td>\n",
       "      <td>NaN</td>\n",
       "      <td>1</td>\n",
       "    </tr>\n",
       "    <tr>\n",
       "      <th>916</th>\n",
       "      <td>917</td>\n",
       "      <td>62</td>\n",
       "      <td>Male</td>\n",
       "      <td>VA Long Beach</td>\n",
       "      <td>typical angina</td>\n",
       "      <td>NaN</td>\n",
       "      <td>139.0</td>\n",
       "      <td>False</td>\n",
       "      <td>st-t abnormality</td>\n",
       "      <td>NaN</td>\n",
       "      <td>NaN</td>\n",
       "      <td>NaN</td>\n",
       "      <td>NaN</td>\n",
       "      <td>NaN</td>\n",
       "      <td>NaN</td>\n",
       "      <td>0</td>\n",
       "    </tr>\n",
       "    <tr>\n",
       "      <th>917</th>\n",
       "      <td>918</td>\n",
       "      <td>55</td>\n",
       "      <td>Male</td>\n",
       "      <td>VA Long Beach</td>\n",
       "      <td>asymptomatic</td>\n",
       "      <td>122.0</td>\n",
       "      <td>223.0</td>\n",
       "      <td>True</td>\n",
       "      <td>st-t abnormality</td>\n",
       "      <td>100.0</td>\n",
       "      <td>False</td>\n",
       "      <td>0.0</td>\n",
       "      <td>NaN</td>\n",
       "      <td>NaN</td>\n",
       "      <td>fixed defect</td>\n",
       "      <td>2</td>\n",
       "    </tr>\n",
       "    <tr>\n",
       "      <th>918</th>\n",
       "      <td>919</td>\n",
       "      <td>58</td>\n",
       "      <td>Male</td>\n",
       "      <td>VA Long Beach</td>\n",
       "      <td>asymptomatic</td>\n",
       "      <td>NaN</td>\n",
       "      <td>385.0</td>\n",
       "      <td>True</td>\n",
       "      <td>lv hypertrophy</td>\n",
       "      <td>NaN</td>\n",
       "      <td>NaN</td>\n",
       "      <td>NaN</td>\n",
       "      <td>NaN</td>\n",
       "      <td>NaN</td>\n",
       "      <td>NaN</td>\n",
       "      <td>0</td>\n",
       "    </tr>\n",
       "    <tr>\n",
       "      <th>919</th>\n",
       "      <td>920</td>\n",
       "      <td>62</td>\n",
       "      <td>Male</td>\n",
       "      <td>VA Long Beach</td>\n",
       "      <td>atypical angina</td>\n",
       "      <td>120.0</td>\n",
       "      <td>254.0</td>\n",
       "      <td>False</td>\n",
       "      <td>lv hypertrophy</td>\n",
       "      <td>93.0</td>\n",
       "      <td>True</td>\n",
       "      <td>0.0</td>\n",
       "      <td>NaN</td>\n",
       "      <td>NaN</td>\n",
       "      <td>NaN</td>\n",
       "      <td>1</td>\n",
       "    </tr>\n",
       "  </tbody>\n",
       "</table>\n",
       "<p>920 rows × 16 columns</p>\n",
       "</div>"
      ],
      "text/plain": [
       "      id  age     sex        dataset               cp  trestbps   chol    fbs  \\\n",
       "0      1   63    Male      Cleveland   typical angina     145.0  233.0   True   \n",
       "1      2   67    Male      Cleveland     asymptomatic     160.0  286.0  False   \n",
       "2      3   67    Male      Cleveland     asymptomatic     120.0  229.0  False   \n",
       "3      4   37    Male      Cleveland      non-anginal     130.0  250.0  False   \n",
       "4      5   41  Female      Cleveland  atypical angina     130.0  204.0  False   \n",
       "..   ...  ...     ...            ...              ...       ...    ...    ...   \n",
       "915  916   54  Female  VA Long Beach     asymptomatic     127.0  333.0   True   \n",
       "916  917   62    Male  VA Long Beach   typical angina       NaN  139.0  False   \n",
       "917  918   55    Male  VA Long Beach     asymptomatic     122.0  223.0   True   \n",
       "918  919   58    Male  VA Long Beach     asymptomatic       NaN  385.0   True   \n",
       "919  920   62    Male  VA Long Beach  atypical angina     120.0  254.0  False   \n",
       "\n",
       "              restecg  thalch  exang  oldpeak        slope   ca  \\\n",
       "0      lv hypertrophy   150.0  False      2.3  downsloping  0.0   \n",
       "1      lv hypertrophy   108.0   True      1.5         flat  3.0   \n",
       "2      lv hypertrophy   129.0   True      2.6         flat  2.0   \n",
       "3              normal   187.0  False      3.5  downsloping  0.0   \n",
       "4      lv hypertrophy   172.0  False      1.4    upsloping  0.0   \n",
       "..                ...     ...    ...      ...          ...  ...   \n",
       "915  st-t abnormality   154.0  False      0.0          NaN  NaN   \n",
       "916  st-t abnormality     NaN    NaN      NaN          NaN  NaN   \n",
       "917  st-t abnormality   100.0  False      0.0          NaN  NaN   \n",
       "918    lv hypertrophy     NaN    NaN      NaN          NaN  NaN   \n",
       "919    lv hypertrophy    93.0   True      0.0          NaN  NaN   \n",
       "\n",
       "                  thal  num  \n",
       "0         fixed defect    0  \n",
       "1               normal    2  \n",
       "2    reversable defect    1  \n",
       "3               normal    0  \n",
       "4               normal    0  \n",
       "..                 ...  ...  \n",
       "915                NaN    1  \n",
       "916                NaN    0  \n",
       "917       fixed defect    2  \n",
       "918                NaN    0  \n",
       "919                NaN    1  \n",
       "\n",
       "[920 rows x 16 columns]"
      ]
     },
     "execution_count": 246,
     "metadata": {},
     "output_type": "execute_result"
    }
   ],
   "source": [
    "heart_data"
   ]
  },
  {
   "cell_type": "code",
   "execution_count": 247,
   "id": "44c68ddb",
   "metadata": {},
   "outputs": [
    {
     "data": {
      "text/plain": [
       "Index(['id', 'age', 'sex', 'dataset', 'cp', 'trestbps', 'chol', 'fbs',\n",
       "       'restecg', 'thalch', 'exang', 'oldpeak', 'slope', 'ca', 'thal', 'num'],\n",
       "      dtype='object')"
      ]
     },
     "execution_count": 247,
     "metadata": {},
     "output_type": "execute_result"
    }
   ],
   "source": [
    "heart_data.columns"
   ]
  },
  {
   "cell_type": "code",
   "execution_count": 248,
   "id": "0cdf6a20",
   "metadata": {},
   "outputs": [
    {
     "data": {
      "text/plain": [
       "num\n",
       "0    411\n",
       "1    265\n",
       "2    109\n",
       "3    107\n",
       "4     28\n",
       "Name: count, dtype: int64"
      ]
     },
     "execution_count": 248,
     "metadata": {},
     "output_type": "execute_result"
    }
   ],
   "source": [
    "# checking unique values of target label\n",
    "heart_data['num'].value_counts() # it has 4 unique count so we need to convert into binary for better classifiaction\n"
   ]
  },
  {
   "cell_type": "code",
   "execution_count": 249,
   "id": "f163206b",
   "metadata": {},
   "outputs": [
    {
     "name": "stdout",
     "output_type": "stream",
     "text": [
      "<class 'pandas.core.frame.DataFrame'>\n",
      "RangeIndex: 920 entries, 0 to 919\n",
      "Data columns (total 16 columns):\n",
      " #   Column    Non-Null Count  Dtype  \n",
      "---  ------    --------------  -----  \n",
      " 0   id        920 non-null    int64  \n",
      " 1   age       920 non-null    int64  \n",
      " 2   sex       920 non-null    object \n",
      " 3   dataset   920 non-null    object \n",
      " 4   cp        920 non-null    object \n",
      " 5   trestbps  861 non-null    float64\n",
      " 6   chol      890 non-null    float64\n",
      " 7   fbs       830 non-null    object \n",
      " 8   restecg   918 non-null    object \n",
      " 9   thalch    865 non-null    float64\n",
      " 10  exang     865 non-null    object \n",
      " 11  oldpeak   858 non-null    float64\n",
      " 12  slope     611 non-null    object \n",
      " 13  ca        309 non-null    float64\n",
      " 14  thal      434 non-null    object \n",
      " 15  num       920 non-null    int64  \n",
      "dtypes: float64(5), int64(3), object(8)\n",
      "memory usage: 115.1+ KB\n"
     ]
    }
   ],
   "source": [
    "heart_data.info()"
   ]
  },
  {
   "cell_type": "code",
   "execution_count": 250,
   "id": "4e98b785",
   "metadata": {},
   "outputs": [
    {
     "data": {
      "text/plain": [
       "id            0\n",
       "age           0\n",
       "sex           0\n",
       "dataset       0\n",
       "cp            0\n",
       "trestbps     59\n",
       "chol         30\n",
       "fbs          90\n",
       "restecg       2\n",
       "thalch       55\n",
       "exang        55\n",
       "oldpeak      62\n",
       "slope       309\n",
       "ca          611\n",
       "thal        486\n",
       "num           0\n",
       "dtype: int64"
      ]
     },
     "execution_count": 250,
     "metadata": {},
     "output_type": "execute_result"
    }
   ],
   "source": [
    "heart_data.isnull().sum()"
   ]
  },
  {
   "cell_type": "code",
   "execution_count": 251,
   "id": "29c9ffe2",
   "metadata": {},
   "outputs": [],
   "source": [
    "heart_data.drop(['id','dataset'] , axis=1, inplace=True)"
   ]
  },
  {
   "cell_type": "code",
   "execution_count": 252,
   "id": "969087b9",
   "metadata": {},
   "outputs": [],
   "source": [
    "heart_data.dropna(subset=['trestbps', 'chol', 'fbs','restecg', 'thalch', 'exang', 'oldpeak', 'slope', 'ca', 'thal',] , axis=0 , inplace=True)"
   ]
  },
  {
   "cell_type": "code",
   "execution_count": 253,
   "id": "e0161d8b",
   "metadata": {},
   "outputs": [
    {
     "data": {
      "text/html": [
       "<div>\n",
       "<style scoped>\n",
       "    .dataframe tbody tr th:only-of-type {\n",
       "        vertical-align: middle;\n",
       "    }\n",
       "\n",
       "    .dataframe tbody tr th {\n",
       "        vertical-align: top;\n",
       "    }\n",
       "\n",
       "    .dataframe thead th {\n",
       "        text-align: right;\n",
       "    }\n",
       "</style>\n",
       "<table border=\"1\" class=\"dataframe\">\n",
       "  <thead>\n",
       "    <tr style=\"text-align: right;\">\n",
       "      <th></th>\n",
       "      <th>age</th>\n",
       "      <th>sex</th>\n",
       "      <th>cp</th>\n",
       "      <th>trestbps</th>\n",
       "      <th>chol</th>\n",
       "      <th>fbs</th>\n",
       "      <th>restecg</th>\n",
       "      <th>thalch</th>\n",
       "      <th>exang</th>\n",
       "      <th>oldpeak</th>\n",
       "      <th>slope</th>\n",
       "      <th>ca</th>\n",
       "      <th>thal</th>\n",
       "      <th>num</th>\n",
       "    </tr>\n",
       "  </thead>\n",
       "  <tbody>\n",
       "    <tr>\n",
       "      <th>0</th>\n",
       "      <td>63</td>\n",
       "      <td>Male</td>\n",
       "      <td>typical angina</td>\n",
       "      <td>145.0</td>\n",
       "      <td>233.0</td>\n",
       "      <td>True</td>\n",
       "      <td>lv hypertrophy</td>\n",
       "      <td>150.0</td>\n",
       "      <td>False</td>\n",
       "      <td>2.3</td>\n",
       "      <td>downsloping</td>\n",
       "      <td>0.0</td>\n",
       "      <td>fixed defect</td>\n",
       "      <td>0</td>\n",
       "    </tr>\n",
       "    <tr>\n",
       "      <th>1</th>\n",
       "      <td>67</td>\n",
       "      <td>Male</td>\n",
       "      <td>asymptomatic</td>\n",
       "      <td>160.0</td>\n",
       "      <td>286.0</td>\n",
       "      <td>False</td>\n",
       "      <td>lv hypertrophy</td>\n",
       "      <td>108.0</td>\n",
       "      <td>True</td>\n",
       "      <td>1.5</td>\n",
       "      <td>flat</td>\n",
       "      <td>3.0</td>\n",
       "      <td>normal</td>\n",
       "      <td>2</td>\n",
       "    </tr>\n",
       "    <tr>\n",
       "      <th>2</th>\n",
       "      <td>67</td>\n",
       "      <td>Male</td>\n",
       "      <td>asymptomatic</td>\n",
       "      <td>120.0</td>\n",
       "      <td>229.0</td>\n",
       "      <td>False</td>\n",
       "      <td>lv hypertrophy</td>\n",
       "      <td>129.0</td>\n",
       "      <td>True</td>\n",
       "      <td>2.6</td>\n",
       "      <td>flat</td>\n",
       "      <td>2.0</td>\n",
       "      <td>reversable defect</td>\n",
       "      <td>1</td>\n",
       "    </tr>\n",
       "    <tr>\n",
       "      <th>3</th>\n",
       "      <td>37</td>\n",
       "      <td>Male</td>\n",
       "      <td>non-anginal</td>\n",
       "      <td>130.0</td>\n",
       "      <td>250.0</td>\n",
       "      <td>False</td>\n",
       "      <td>normal</td>\n",
       "      <td>187.0</td>\n",
       "      <td>False</td>\n",
       "      <td>3.5</td>\n",
       "      <td>downsloping</td>\n",
       "      <td>0.0</td>\n",
       "      <td>normal</td>\n",
       "      <td>0</td>\n",
       "    </tr>\n",
       "    <tr>\n",
       "      <th>4</th>\n",
       "      <td>41</td>\n",
       "      <td>Female</td>\n",
       "      <td>atypical angina</td>\n",
       "      <td>130.0</td>\n",
       "      <td>204.0</td>\n",
       "      <td>False</td>\n",
       "      <td>lv hypertrophy</td>\n",
       "      <td>172.0</td>\n",
       "      <td>False</td>\n",
       "      <td>1.4</td>\n",
       "      <td>upsloping</td>\n",
       "      <td>0.0</td>\n",
       "      <td>normal</td>\n",
       "      <td>0</td>\n",
       "    </tr>\n",
       "    <tr>\n",
       "      <th>...</th>\n",
       "      <td>...</td>\n",
       "      <td>...</td>\n",
       "      <td>...</td>\n",
       "      <td>...</td>\n",
       "      <td>...</td>\n",
       "      <td>...</td>\n",
       "      <td>...</td>\n",
       "      <td>...</td>\n",
       "      <td>...</td>\n",
       "      <td>...</td>\n",
       "      <td>...</td>\n",
       "      <td>...</td>\n",
       "      <td>...</td>\n",
       "      <td>...</td>\n",
       "    </tr>\n",
       "    <tr>\n",
       "      <th>299</th>\n",
       "      <td>68</td>\n",
       "      <td>Male</td>\n",
       "      <td>asymptomatic</td>\n",
       "      <td>144.0</td>\n",
       "      <td>193.0</td>\n",
       "      <td>True</td>\n",
       "      <td>normal</td>\n",
       "      <td>141.0</td>\n",
       "      <td>False</td>\n",
       "      <td>3.4</td>\n",
       "      <td>flat</td>\n",
       "      <td>2.0</td>\n",
       "      <td>reversable defect</td>\n",
       "      <td>2</td>\n",
       "    </tr>\n",
       "    <tr>\n",
       "      <th>300</th>\n",
       "      <td>57</td>\n",
       "      <td>Male</td>\n",
       "      <td>asymptomatic</td>\n",
       "      <td>130.0</td>\n",
       "      <td>131.0</td>\n",
       "      <td>False</td>\n",
       "      <td>normal</td>\n",
       "      <td>115.0</td>\n",
       "      <td>True</td>\n",
       "      <td>1.2</td>\n",
       "      <td>flat</td>\n",
       "      <td>1.0</td>\n",
       "      <td>reversable defect</td>\n",
       "      <td>3</td>\n",
       "    </tr>\n",
       "    <tr>\n",
       "      <th>301</th>\n",
       "      <td>57</td>\n",
       "      <td>Female</td>\n",
       "      <td>atypical angina</td>\n",
       "      <td>130.0</td>\n",
       "      <td>236.0</td>\n",
       "      <td>False</td>\n",
       "      <td>lv hypertrophy</td>\n",
       "      <td>174.0</td>\n",
       "      <td>False</td>\n",
       "      <td>0.0</td>\n",
       "      <td>flat</td>\n",
       "      <td>1.0</td>\n",
       "      <td>normal</td>\n",
       "      <td>1</td>\n",
       "    </tr>\n",
       "    <tr>\n",
       "      <th>508</th>\n",
       "      <td>47</td>\n",
       "      <td>Male</td>\n",
       "      <td>asymptomatic</td>\n",
       "      <td>150.0</td>\n",
       "      <td>226.0</td>\n",
       "      <td>False</td>\n",
       "      <td>normal</td>\n",
       "      <td>98.0</td>\n",
       "      <td>True</td>\n",
       "      <td>1.5</td>\n",
       "      <td>flat</td>\n",
       "      <td>0.0</td>\n",
       "      <td>reversable defect</td>\n",
       "      <td>1</td>\n",
       "    </tr>\n",
       "    <tr>\n",
       "      <th>748</th>\n",
       "      <td>56</td>\n",
       "      <td>Male</td>\n",
       "      <td>asymptomatic</td>\n",
       "      <td>120.0</td>\n",
       "      <td>100.0</td>\n",
       "      <td>False</td>\n",
       "      <td>normal</td>\n",
       "      <td>120.0</td>\n",
       "      <td>True</td>\n",
       "      <td>1.5</td>\n",
       "      <td>flat</td>\n",
       "      <td>0.0</td>\n",
       "      <td>reversable defect</td>\n",
       "      <td>1</td>\n",
       "    </tr>\n",
       "  </tbody>\n",
       "</table>\n",
       "<p>299 rows × 14 columns</p>\n",
       "</div>"
      ],
      "text/plain": [
       "     age     sex               cp  trestbps   chol    fbs         restecg  \\\n",
       "0     63    Male   typical angina     145.0  233.0   True  lv hypertrophy   \n",
       "1     67    Male     asymptomatic     160.0  286.0  False  lv hypertrophy   \n",
       "2     67    Male     asymptomatic     120.0  229.0  False  lv hypertrophy   \n",
       "3     37    Male      non-anginal     130.0  250.0  False          normal   \n",
       "4     41  Female  atypical angina     130.0  204.0  False  lv hypertrophy   \n",
       "..   ...     ...              ...       ...    ...    ...             ...   \n",
       "299   68    Male     asymptomatic     144.0  193.0   True          normal   \n",
       "300   57    Male     asymptomatic     130.0  131.0  False          normal   \n",
       "301   57  Female  atypical angina     130.0  236.0  False  lv hypertrophy   \n",
       "508   47    Male     asymptomatic     150.0  226.0  False          normal   \n",
       "748   56    Male     asymptomatic     120.0  100.0  False          normal   \n",
       "\n",
       "     thalch  exang  oldpeak        slope   ca               thal  num  \n",
       "0     150.0  False      2.3  downsloping  0.0       fixed defect    0  \n",
       "1     108.0   True      1.5         flat  3.0             normal    2  \n",
       "2     129.0   True      2.6         flat  2.0  reversable defect    1  \n",
       "3     187.0  False      3.5  downsloping  0.0             normal    0  \n",
       "4     172.0  False      1.4    upsloping  0.0             normal    0  \n",
       "..      ...    ...      ...          ...  ...                ...  ...  \n",
       "299   141.0  False      3.4         flat  2.0  reversable defect    2  \n",
       "300   115.0   True      1.2         flat  1.0  reversable defect    3  \n",
       "301   174.0  False      0.0         flat  1.0             normal    1  \n",
       "508    98.0   True      1.5         flat  0.0  reversable defect    1  \n",
       "748   120.0   True      1.5         flat  0.0  reversable defect    1  \n",
       "\n",
       "[299 rows x 14 columns]"
      ]
     },
     "execution_count": 253,
     "metadata": {},
     "output_type": "execute_result"
    }
   ],
   "source": [
    "heart_data"
   ]
  },
  {
   "cell_type": "code",
   "execution_count": 254,
   "id": "e9a56dd0",
   "metadata": {},
   "outputs": [
    {
     "data": {
      "text/plain": [
       "age         0\n",
       "sex         0\n",
       "cp          0\n",
       "trestbps    0\n",
       "chol        0\n",
       "fbs         0\n",
       "restecg     0\n",
       "thalch      0\n",
       "exang       0\n",
       "oldpeak     0\n",
       "slope       0\n",
       "ca          0\n",
       "thal        0\n",
       "num         0\n",
       "dtype: int64"
      ]
     },
     "execution_count": 254,
     "metadata": {},
     "output_type": "execute_result"
    }
   ],
   "source": [
    "heart_data.isnull().sum()"
   ]
  },
  {
   "cell_type": "code",
   "execution_count": 255,
   "id": "fe87b7c8",
   "metadata": {},
   "outputs": [
    {
     "data": {
      "text/plain": [
       "age           int64\n",
       "sex          object\n",
       "cp           object\n",
       "trestbps    float64\n",
       "chol        float64\n",
       "fbs          object\n",
       "restecg      object\n",
       "thalch      float64\n",
       "exang        object\n",
       "oldpeak     float64\n",
       "slope        object\n",
       "ca          float64\n",
       "thal         object\n",
       "num           int64\n",
       "dtype: object"
      ]
     },
     "execution_count": 255,
     "metadata": {},
     "output_type": "execute_result"
    }
   ],
   "source": [
    "# Checking columns datatypes  age , trestbps , chol , thalch , oldpeak , ca \n",
    "heart_data.dtypes"
   ]
  },
  {
   "cell_type": "markdown",
   "id": "b6099d39",
   "metadata": {},
   "source": [
    "## Encoding all categorical columns"
   ]
  },
  {
   "cell_type": "code",
   "execution_count": 256,
   "id": "561b76e6",
   "metadata": {},
   "outputs": [],
   "source": [
    "future_category = ['sex' ,'cp','fbs','restecg','exang','slope','thal']\n",
    "one_hot_encoder = OneHotEncoder(sparse_output=False)"
   ]
  },
  {
   "cell_type": "code",
   "execution_count": 257,
   "id": "824b3919",
   "metadata": {},
   "outputs": [
    {
     "data": {
      "text/html": [
       "<div>\n",
       "<style scoped>\n",
       "    .dataframe tbody tr th:only-of-type {\n",
       "        vertical-align: middle;\n",
       "    }\n",
       "\n",
       "    .dataframe tbody tr th {\n",
       "        vertical-align: top;\n",
       "    }\n",
       "\n",
       "    .dataframe thead th {\n",
       "        text-align: right;\n",
       "    }\n",
       "</style>\n",
       "<table border=\"1\" class=\"dataframe\">\n",
       "  <thead>\n",
       "    <tr style=\"text-align: right;\">\n",
       "      <th></th>\n",
       "      <th>num__age</th>\n",
       "      <th>num__trestbps</th>\n",
       "      <th>num__chol</th>\n",
       "      <th>num__thalch</th>\n",
       "      <th>num__oldpeak</th>\n",
       "      <th>num__ca</th>\n",
       "      <th>cat__sex_Female</th>\n",
       "      <th>cat__sex_Male</th>\n",
       "      <th>cat__cp_asymptomatic</th>\n",
       "      <th>cat__cp_atypical angina</th>\n",
       "      <th>...</th>\n",
       "      <th>cat__restecg_normal</th>\n",
       "      <th>cat__restecg_st-t abnormality</th>\n",
       "      <th>cat__exang_False</th>\n",
       "      <th>cat__exang_True</th>\n",
       "      <th>cat__slope_downsloping</th>\n",
       "      <th>cat__slope_flat</th>\n",
       "      <th>cat__slope_upsloping</th>\n",
       "      <th>cat__thal_fixed defect</th>\n",
       "      <th>cat__thal_normal</th>\n",
       "      <th>cat__thal_reversable defect</th>\n",
       "    </tr>\n",
       "  </thead>\n",
       "  <tbody>\n",
       "    <tr>\n",
       "      <th>0</th>\n",
       "      <td>0.940446</td>\n",
       "      <td>0.749760</td>\n",
       "      <td>-0.262867</td>\n",
       "      <td>0.029124</td>\n",
       "      <td>1.069475</td>\n",
       "      <td>-0.718306</td>\n",
       "      <td>0.0</td>\n",
       "      <td>1.0</td>\n",
       "      <td>0.0</td>\n",
       "      <td>0.0</td>\n",
       "      <td>...</td>\n",
       "      <td>0.0</td>\n",
       "      <td>0.0</td>\n",
       "      <td>1.0</td>\n",
       "      <td>0.0</td>\n",
       "      <td>1.0</td>\n",
       "      <td>0.0</td>\n",
       "      <td>0.0</td>\n",
       "      <td>1.0</td>\n",
       "      <td>0.0</td>\n",
       "      <td>0.0</td>\n",
       "    </tr>\n",
       "    <tr>\n",
       "      <th>1</th>\n",
       "      <td>1.384143</td>\n",
       "      <td>1.596354</td>\n",
       "      <td>0.747722</td>\n",
       "      <td>-1.790447</td>\n",
       "      <td>0.380309</td>\n",
       "      <td>2.487269</td>\n",
       "      <td>0.0</td>\n",
       "      <td>1.0</td>\n",
       "      <td>1.0</td>\n",
       "      <td>0.0</td>\n",
       "      <td>...</td>\n",
       "      <td>0.0</td>\n",
       "      <td>0.0</td>\n",
       "      <td>0.0</td>\n",
       "      <td>1.0</td>\n",
       "      <td>0.0</td>\n",
       "      <td>1.0</td>\n",
       "      <td>0.0</td>\n",
       "      <td>0.0</td>\n",
       "      <td>1.0</td>\n",
       "      <td>0.0</td>\n",
       "    </tr>\n",
       "    <tr>\n",
       "      <th>2</th>\n",
       "      <td>1.384143</td>\n",
       "      <td>-0.661231</td>\n",
       "      <td>-0.339138</td>\n",
       "      <td>-0.880662</td>\n",
       "      <td>1.327912</td>\n",
       "      <td>1.418744</td>\n",
       "      <td>0.0</td>\n",
       "      <td>1.0</td>\n",
       "      <td>1.0</td>\n",
       "      <td>0.0</td>\n",
       "      <td>...</td>\n",
       "      <td>0.0</td>\n",
       "      <td>0.0</td>\n",
       "      <td>0.0</td>\n",
       "      <td>1.0</td>\n",
       "      <td>0.0</td>\n",
       "      <td>1.0</td>\n",
       "      <td>0.0</td>\n",
       "      <td>0.0</td>\n",
       "      <td>0.0</td>\n",
       "      <td>1.0</td>\n",
       "    </tr>\n",
       "    <tr>\n",
       "      <th>3</th>\n",
       "      <td>-1.943588</td>\n",
       "      <td>-0.096835</td>\n",
       "      <td>0.061285</td>\n",
       "      <td>1.632079</td>\n",
       "      <td>2.103224</td>\n",
       "      <td>-0.718306</td>\n",
       "      <td>0.0</td>\n",
       "      <td>1.0</td>\n",
       "      <td>0.0</td>\n",
       "      <td>0.0</td>\n",
       "      <td>...</td>\n",
       "      <td>1.0</td>\n",
       "      <td>0.0</td>\n",
       "      <td>1.0</td>\n",
       "      <td>0.0</td>\n",
       "      <td>1.0</td>\n",
       "      <td>0.0</td>\n",
       "      <td>0.0</td>\n",
       "      <td>0.0</td>\n",
       "      <td>1.0</td>\n",
       "      <td>0.0</td>\n",
       "    </tr>\n",
       "    <tr>\n",
       "      <th>4</th>\n",
       "      <td>-1.499891</td>\n",
       "      <td>-0.096835</td>\n",
       "      <td>-0.815830</td>\n",
       "      <td>0.982232</td>\n",
       "      <td>0.294163</td>\n",
       "      <td>-0.718306</td>\n",
       "      <td>1.0</td>\n",
       "      <td>0.0</td>\n",
       "      <td>0.0</td>\n",
       "      <td>1.0</td>\n",
       "      <td>...</td>\n",
       "      <td>0.0</td>\n",
       "      <td>0.0</td>\n",
       "      <td>1.0</td>\n",
       "      <td>0.0</td>\n",
       "      <td>0.0</td>\n",
       "      <td>0.0</td>\n",
       "      <td>1.0</td>\n",
       "      <td>0.0</td>\n",
       "      <td>1.0</td>\n",
       "      <td>0.0</td>\n",
       "    </tr>\n",
       "  </tbody>\n",
       "</table>\n",
       "<p>5 rows × 25 columns</p>\n",
       "</div>"
      ],
      "text/plain": [
       "   num__age  num__trestbps  num__chol  num__thalch  num__oldpeak   num__ca  \\\n",
       "0  0.940446       0.749760  -0.262867     0.029124      1.069475 -0.718306   \n",
       "1  1.384143       1.596354   0.747722    -1.790447      0.380309  2.487269   \n",
       "2  1.384143      -0.661231  -0.339138    -0.880662      1.327912  1.418744   \n",
       "3 -1.943588      -0.096835   0.061285     1.632079      2.103224 -0.718306   \n",
       "4 -1.499891      -0.096835  -0.815830     0.982232      0.294163 -0.718306   \n",
       "\n",
       "   cat__sex_Female  cat__sex_Male  cat__cp_asymptomatic  \\\n",
       "0              0.0            1.0                   0.0   \n",
       "1              0.0            1.0                   1.0   \n",
       "2              0.0            1.0                   1.0   \n",
       "3              0.0            1.0                   0.0   \n",
       "4              1.0            0.0                   0.0   \n",
       "\n",
       "   cat__cp_atypical angina  ...  cat__restecg_normal  \\\n",
       "0                      0.0  ...                  0.0   \n",
       "1                      0.0  ...                  0.0   \n",
       "2                      0.0  ...                  0.0   \n",
       "3                      0.0  ...                  1.0   \n",
       "4                      1.0  ...                  0.0   \n",
       "\n",
       "   cat__restecg_st-t abnormality  cat__exang_False  cat__exang_True  \\\n",
       "0                            0.0               1.0              0.0   \n",
       "1                            0.0               0.0              1.0   \n",
       "2                            0.0               0.0              1.0   \n",
       "3                            0.0               1.0              0.0   \n",
       "4                            0.0               1.0              0.0   \n",
       "\n",
       "   cat__slope_downsloping  cat__slope_flat  cat__slope_upsloping  \\\n",
       "0                     1.0              0.0                   0.0   \n",
       "1                     0.0              1.0                   0.0   \n",
       "2                     0.0              1.0                   0.0   \n",
       "3                     1.0              0.0                   0.0   \n",
       "4                     0.0              0.0                   1.0   \n",
       "\n",
       "   cat__thal_fixed defect  cat__thal_normal  cat__thal_reversable defect  \n",
       "0                     1.0               0.0                          0.0  \n",
       "1                     0.0               1.0                          0.0  \n",
       "2                     0.0               0.0                          1.0  \n",
       "3                     0.0               1.0                          0.0  \n",
       "4                     0.0               1.0                          0.0  \n",
       "\n",
       "[5 rows x 25 columns]"
      ]
     },
     "execution_count": 257,
     "metadata": {},
     "output_type": "execute_result"
    }
   ],
   "source": [
    "# Normalizing original future data\n",
    "numerical_features = ['age', 'trestbps', 'chol', 'thalch', 'oldpeak', 'ca']\n",
    "standered_numeric = StandardScaler()\n",
    "# adding column Transformers for encoded colunms\n",
    "ct = ColumnTransformer(transformers=[\n",
    "    ('num', standered_numeric, numerical_features ),\n",
    "    ('cat' , one_hot_encoder, future_category )]) # we have to maintain order Name, Transformer, Colum\n",
    "\n",
    "# safe method: Separating  features (X) and target (y) first\n",
    "droping_target = heart_data.drop(columns=['num'])  # Everything except the target\n",
    "\n",
    "ct.set_output(transform='pandas')\n",
    "\n",
    "# Now process ONLY the features\n",
    "encoded_heart_data = ct.fit_transform(droping_target)  # <-- Pass droping_target, not the whole DataFrame\n",
    "encoded_heart_data.head()"
   ]
  },
  {
   "cell_type": "code",
   "execution_count": 258,
   "id": "c6bcdb37",
   "metadata": {},
   "outputs": [],
   "source": [
    "# assigning both future and target columns into new dataset called complete_heart_data\n",
    "# target = means \"create a new column named 'target'\".\n",
    "complete_heart_data = encoded_heart_data.assign(target=heart_data['num']) \n"
   ]
  },
  {
   "cell_type": "code",
   "execution_count": 259,
   "id": "e2a1fb01",
   "metadata": {},
   "outputs": [],
   "source": [
    "# Convert to binary: 0 = no disease, 1-4 = disease\n",
    "complete_heart_data['target_binary'] = (complete_heart_data['target'] > 0).astype(int)"
   ]
  },
  {
   "cell_type": "code",
   "execution_count": 260,
   "id": "13442a98",
   "metadata": {},
   "outputs": [
    {
     "data": {
      "text/plain": [
       "0      0\n",
       "1      1\n",
       "2      1\n",
       "3      0\n",
       "4      0\n",
       "      ..\n",
       "299    1\n",
       "300    1\n",
       "301    1\n",
       "508    1\n",
       "748    1\n",
       "Name: target_binary, Length: 299, dtype: int32"
      ]
     },
     "execution_count": 260,
     "metadata": {},
     "output_type": "execute_result"
    }
   ],
   "source": [
    "# Checking ist converted to binary\n",
    "complete_heart_data['target_binary'] "
   ]
  },
  {
   "cell_type": "code",
   "execution_count": 261,
   "id": "11a1c016",
   "metadata": {},
   "outputs": [
    {
     "data": {
      "text/plain": [
       "0      0.940446\n",
       "1      1.384143\n",
       "2      1.384143\n",
       "3     -1.943588\n",
       "4     -1.499891\n",
       "         ...   \n",
       "299    1.495068\n",
       "300    0.274900\n",
       "301    0.274900\n",
       "508   -0.834344\n",
       "748    0.163975\n",
       "Name: num__age, Length: 299, dtype: float64"
      ]
     },
     "execution_count": 261,
     "metadata": {},
     "output_type": "execute_result"
    }
   ],
   "source": [
    "complete_heart_data['num__age']\n",
    "# num__age (Scaled)\toriginal_age\n",
    "# 0.94\t63\n",
    "# 1.38\t67\n",
    "# 1.38\t67\n",
    "# -1.94\t41\n",
    "# -1.49\t45"
   ]
  },
  {
   "cell_type": "code",
   "execution_count": 262,
   "id": "5c79d8a6",
   "metadata": {},
   "outputs": [],
   "source": [
    "# droping existing target\n",
    "complete_heart_data.drop(['target'] , axis=1 , inplace=True)"
   ]
  },
  {
   "cell_type": "code",
   "execution_count": 263,
   "id": "a4dc656a",
   "metadata": {},
   "outputs": [
    {
     "data": {
      "text/plain": [
       "Index(['num__age', 'num__trestbps', 'num__chol', 'num__thalch', 'num__oldpeak',\n",
       "       'num__ca', 'cat__sex_Female', 'cat__sex_Male', 'cat__cp_asymptomatic',\n",
       "       'cat__cp_atypical angina', 'cat__cp_non-anginal',\n",
       "       'cat__cp_typical angina', 'cat__fbs_False', 'cat__fbs_True',\n",
       "       'cat__restecg_lv hypertrophy', 'cat__restecg_normal',\n",
       "       'cat__restecg_st-t abnormality', 'cat__exang_False', 'cat__exang_True',\n",
       "       'cat__slope_downsloping', 'cat__slope_flat', 'cat__slope_upsloping',\n",
       "       'cat__thal_fixed defect', 'cat__thal_normal',\n",
       "       'cat__thal_reversable defect', 'target_binary'],\n",
       "      dtype='object')"
      ]
     },
     "execution_count": 263,
     "metadata": {},
     "output_type": "execute_result"
    }
   ],
   "source": [
    "complete_heart_data.columns"
   ]
  },
  {
   "cell_type": "code",
   "execution_count": 264,
   "id": "e8ad2e22",
   "metadata": {},
   "outputs": [
    {
     "data": {
      "text/plain": [
       "num__age                         float64\n",
       "num__trestbps                    float64\n",
       "num__chol                        float64\n",
       "num__thalch                      float64\n",
       "num__oldpeak                     float64\n",
       "num__ca                          float64\n",
       "cat__sex_Female                  float64\n",
       "cat__sex_Male                    float64\n",
       "cat__cp_asymptomatic             float64\n",
       "cat__cp_atypical angina          float64\n",
       "cat__cp_non-anginal              float64\n",
       "cat__cp_typical angina           float64\n",
       "cat__fbs_False                   float64\n",
       "cat__fbs_True                    float64\n",
       "cat__restecg_lv hypertrophy      float64\n",
       "cat__restecg_normal              float64\n",
       "cat__restecg_st-t abnormality    float64\n",
       "cat__exang_False                 float64\n",
       "cat__exang_True                  float64\n",
       "cat__slope_downsloping           float64\n",
       "cat__slope_flat                  float64\n",
       "cat__slope_upsloping             float64\n",
       "cat__thal_fixed defect           float64\n",
       "cat__thal_normal                 float64\n",
       "cat__thal_reversable defect      float64\n",
       "target_binary                      int32\n",
       "dtype: object"
      ]
     },
     "execution_count": 264,
     "metadata": {},
     "output_type": "execute_result"
    }
   ],
   "source": [
    "complete_heart_data.dtypes"
   ]
  },
  {
   "cell_type": "code",
   "execution_count": 265,
   "id": "cd1f3ff1",
   "metadata": {},
   "outputs": [
    {
     "data": {
      "text/plain": [
       "num__age                         0\n",
       "num__trestbps                    0\n",
       "num__chol                        0\n",
       "num__thalch                      0\n",
       "num__oldpeak                     0\n",
       "num__ca                          0\n",
       "cat__sex_Female                  0\n",
       "cat__sex_Male                    0\n",
       "cat__cp_asymptomatic             0\n",
       "cat__cp_atypical angina          0\n",
       "cat__cp_non-anginal              0\n",
       "cat__cp_typical angina           0\n",
       "cat__fbs_False                   0\n",
       "cat__fbs_True                    0\n",
       "cat__restecg_lv hypertrophy      0\n",
       "cat__restecg_normal              0\n",
       "cat__restecg_st-t abnormality    0\n",
       "cat__exang_False                 0\n",
       "cat__exang_True                  0\n",
       "cat__slope_downsloping           0\n",
       "cat__slope_flat                  0\n",
       "cat__slope_upsloping             0\n",
       "cat__thal_fixed defect           0\n",
       "cat__thal_normal                 0\n",
       "cat__thal_reversable defect      0\n",
       "target_binary                    0\n",
       "dtype: int64"
      ]
     },
     "execution_count": 265,
     "metadata": {},
     "output_type": "execute_result"
    }
   ],
   "source": [
    "complete_heart_data.isnull().sum()"
   ]
  },
  {
   "cell_type": "markdown",
   "id": "d5b1b1f6",
   "metadata": {},
   "source": [
    "## Data visualisation using a swarm plot"
   ]
  },
  {
   "cell_type": "code",
   "execution_count": 266,
   "id": "051ae536",
   "metadata": {},
   "outputs": [
    {
     "name": "stderr",
     "output_type": "stream",
     "text": [
      "C:\\Users\\Ravichandran\\AppData\\Local\\Temp\\ipykernel_14748\\1360482355.py:7: FutureWarning: \n",
      "\n",
      "Passing `palette` without assigning `hue` is deprecated and will be removed in v0.14.0. Assign the `x` variable to `hue` and set `legend=False` for the same effect.\n",
      "\n",
      "  sns.swarmplot(x=\"target_binary\", y=\"num__age\" , data=complete_heart_data , palette=data_out)\n"
     ]
    },
    {
     "data": {
      "text/plain": [
       "<Axes: xlabel='target_binary', ylabel='num__age'>"
      ]
     },
     "execution_count": 266,
     "metadata": {},
     "output_type": "execute_result"
    },
    {
     "data": {
      "image/png": "[encoded data removed]",
      "text/plain": [
       "<Figure size 640x480 with 1 Axes>"
      ]
     },
     "metadata": {},
     "output_type": "display_data"
    }
   ],
   "source": [
    "# swarn plot\n",
    "data_out = {\n",
    "    '0' : 'green',\n",
    "    '1' : 'red'\n",
    "}\n",
    "\n",
    "sns.swarmplot(x=\"target_binary\", y=\"num__age\" , data=complete_heart_data , palette=data_out)\n"
   ]
  },
  {
   "cell_type": "markdown",
   "id": "ba9d08d1",
   "metadata": {},
   "source": [
    "# Training Logistic model"
   ]
  },
  {
   "cell_type": "code",
   "execution_count": 267,
   "id": "75e1fc77",
   "metadata": {},
   "outputs": [],
   "source": [
    "# labeling and separating future and target column X,y\n",
    "\n",
    "X = complete_heart_data[['num__age', 'num__trestbps', 'num__chol', 'num__thalch', 'num__oldpeak',\n",
    "       'num__ca', 'cat__sex_Female', 'cat__sex_Male', 'cat__cp_asymptomatic',\n",
    "       'cat__cp_atypical angina', 'cat__cp_non-anginal',\n",
    "       'cat__cp_typical angina', 'cat__fbs_False', 'cat__fbs_True',\n",
    "       'cat__restecg_lv hypertrophy', 'cat__restecg_normal',\n",
    "       'cat__restecg_st-t abnormality', 'cat__exang_False', 'cat__exang_True',\n",
    "       'cat__slope_downsloping', 'cat__slope_flat', 'cat__slope_upsloping',\n",
    "       'cat__thal_fixed defect', 'cat__thal_normal',\n",
    "       'cat__thal_reversable defect' ]].values # it will give out put into numpy array format\n",
    "y = complete_heart_data['target_binary'].values"
   ]
  },
  {
   "cell_type": "code",
   "execution_count": 268,
   "id": "a318b336",
   "metadata": {},
   "outputs": [
    {
     "data": {
      "text/plain": [
       "(array([[ 0.94044585,  0.74975985, -0.26286667, ...,  1.        ,\n",
       "          0.        ,  0.        ],\n",
       "        [ 1.38414338,  1.59635425,  0.74772238, ...,  0.        ,\n",
       "          1.        ,  0.        ],\n",
       "        [ 1.38414338, -0.66123081, -0.33913754, ...,  0.        ,\n",
       "          0.        ,  1.        ],\n",
       "        ...,\n",
       "        [ 0.27489956, -0.09683454, -0.20566351, ...,  0.        ,\n",
       "          1.        ,  0.        ],\n",
       "        [-0.83434427,  1.03195799, -0.39634069, ...,  0.        ,\n",
       "          0.        ,  1.        ],\n",
       "        [ 0.16397517, -0.66123081, -2.79887314, ...,  0.        ,\n",
       "          0.        ,  1.        ]]),\n",
       " array([0, 1, 1, 0, 0, 0, 1, 0, 1, 1, 0, 0, 1, 0, 0, 0, 1, 0, 0, 0, 0, 0,\n",
       "        1, 1, 1, 0, 0, 0, 0, 1, 0, 1, 1, 0, 0, 0, 1, 1, 1, 0, 1, 0, 0, 0,\n",
       "        1, 1, 0, 1, 0, 0, 0, 0, 1, 0, 1, 1, 1, 1, 0, 0, 1, 0, 1, 0, 1, 1,\n",
       "        1, 0, 1, 1, 0, 1, 1, 1, 1, 0, 1, 0, 0, 1, 0, 0, 0, 1, 0, 0, 0, 0,\n",
       "        0, 0, 1, 0, 0, 0, 1, 1, 1, 0, 0, 0, 0, 0, 0, 1, 0, 1, 1, 1, 1, 1,\n",
       "        1, 0, 1, 1, 0, 0, 0, 1, 1, 1, 1, 0, 1, 1, 0, 1, 1, 0, 0, 0, 0, 0,\n",
       "        0, 0, 0, 1, 1, 1, 0, 0, 1, 0, 1, 0, 1, 1, 0, 0, 0, 0, 0, 0, 1, 1,\n",
       "        1, 1, 1, 1, 0, 0, 1, 0, 0, 0, 0, 0, 1, 0, 1, 0, 1, 0, 1, 1, 0, 1,\n",
       "        0, 0, 1, 1, 0, 0, 1, 0, 0, 1, 1, 1, 0, 1, 1, 0, 1, 0, 0, 0, 1, 0,\n",
       "        0, 0, 0, 0, 1, 1, 1, 0, 1, 0, 1, 0, 1, 1, 0, 0, 0, 0, 0, 0, 0, 0,\n",
       "        1, 1, 0, 0, 0, 1, 1, 0, 1, 1, 0, 0, 1, 1, 1, 0, 0, 0, 0, 0, 1, 0,\n",
       "        1, 1, 1, 1, 0, 0, 1, 0, 0, 0, 0, 0, 0, 0, 1, 0, 1, 0, 0, 1, 1, 1,\n",
       "        1, 0, 1, 0, 1, 0, 1, 0, 0, 0, 1, 0, 1, 0, 1, 0, 1, 1, 1, 0, 0, 1,\n",
       "        0, 1, 1, 1, 0, 1, 1, 1, 1, 1, 1, 1, 1]))"
      ]
     },
     "execution_count": 268,
     "metadata": {},
     "output_type": "execute_result"
    }
   ],
   "source": [
    "X ,y"
   ]
  },
  {
   "cell_type": "code",
   "execution_count": 269,
   "id": "05288755",
   "metadata": {},
   "outputs": [],
   "source": [
    "# Spliting data into train and test datasets\n",
    "\n",
    "X_train , X_test , y_train , y_test = train_test_split(X , y ,test_size=0.3 , random_state=42)"
   ]
  },
  {
   "cell_type": "code",
   "execution_count": 270,
   "id": "13976412",
   "metadata": {},
   "outputs": [
    {
     "name": "stdout",
     "output_type": "stream",
     "text": [
      "LogisticRegression()\n"
     ]
    }
   ],
   "source": [
    "# Trainig model \n",
    "model = LogisticRegression()\n",
    "model.fit(X_train , y_train)\n",
    "print(model)\n"
   ]
  },
  {
   "cell_type": "markdown",
   "id": "29d34ec4",
   "metadata": {},
   "source": [
    "##  Evaluating Model Performance with Plots"
   ]
  },
  {
   "cell_type": "code",
   "execution_count": 271,
   "id": "83d3f8d2",
   "metadata": {},
   "outputs": [
    {
     "name": "stdout",
     "output_type": "stream",
     "text": [
      "classification_report :               precision    recall  f1-score   support\n",
      "\n",
      "           0       0.83      0.90      0.86        49\n",
      "           1       0.86      0.78      0.82        41\n",
      "\n",
      "    accuracy                           0.84        90\n",
      "   macro avg       0.85      0.84      0.84        90\n",
      "weighted avg       0.85      0.84      0.84        90\n",
      "\n",
      "Predicted Values :  [1 0 1 1 0 1 0 1 0 1 0 0 0 1 0 1 0 1 0 1 1 0 1 0 0 0 1 0 0 0 0 0 1 1 1 0 0\n",
      " 0 0 0 0 0 1 1 0 0 1 1 0 1 0 1 0 1 0 1 1 0 0 1 1 0 1 0 0 0 0 0 0 0 1 1 0 0\n",
      " 0 1 0 0 0 1 1 0 0 1 1 0 1 0 0 1]\n",
      "Actual Values :  [1 0 0 1 0 1 0 1 0 1 0 0 0 1 1 1 0 1 0 1 1 0 0 0 0 0 1 0 0 0 0 0 0 1 1 0 1\n",
      " 0 0 0 0 0 1 1 0 0 1 1 0 1 1 1 0 1 0 1 1 0 0 0 1 0 1 0 0 1 0 1 0 1 1 1 0 0\n",
      " 0 1 0 1 1 1 0 0 1 1 1 0 1 0 0 1]\n",
      "F1 Score :  0.8205128205128205\n"
     ]
    },
    {
     "data": {
      "text/plain": [
       "array([[44,  5],\n",
       "       [ 9, 32]], dtype=int64)"
      ]
     },
     "execution_count": 271,
     "metadata": {},
     "output_type": "execute_result"
    }
   ],
   "source": [
    "prediction  = model.predict(X_test)\n",
    "print(\"classification_report :\" , classification_report(y_test , prediction))\n",
    "\n",
    "print(\"Predicted Values : \" , prediction)\n",
    "print(\"Actual Values : \", y_test)\n",
    "\n",
    "print(\"F1 Score : \" , f1_score(y_test , prediction))\n",
    "\n",
    "# evaluating using confussion matrix\n",
    "confusion_matrix(y_test , prediction)"
   ]
  },
  {
   "cell_type": "code",
   "execution_count": 272,
   "id": "889d2a71",
   "metadata": {},
   "outputs": [
    {
     "data": {
      "image/png": "[encoded data removed]",
      "text/plain": [
       "<Figure size 600x600 with 1 Axes>"
      ]
     },
     "metadata": {},
     "output_type": "display_data"
    }
   ],
   "source": [
    "y_score = model.predict_proba(X_test)\n",
    "fpr , tpr , thresholds  = roc_curve(y_test , y_score[:,1])\n",
    "fig = plt.figure(figsize=(6,6))\n",
    "plt.plot([0,1],[0,1],'k--')\n",
    "plt.plot(fpr , tpr)\n",
    "plt.xlabel('False Positive Rate')\n",
    "plt.ylabel('True Positive Rate')\n",
    "plt.title('ROC Curve')\n",
    "plt.show()"
   ]
  },
  {
   "cell_type": "code",
   "execution_count": 273,
   "id": "fbb13ac2",
   "metadata": {},
   "outputs": [
    {
     "name": "stdout",
     "output_type": "stream",
     "text": [
      "0.9163763066202091\n"
     ]
    }
   ],
   "source": [
    "auc = roc_auc_score(y_test,y_score[:,1])\n",
    "print(auc)"
   ]
  },
  {
   "cell_type": "markdown",
   "id": "99acf69a",
   "metadata": {},
   "source": [
    "## Testing Model performance by giving new input data"
   ]
  },
  {
   "cell_type": "markdown",
   "id": "f480b212",
   "metadata": {},
   "source": [
    "### HIGH RISK (Probably 1 - heart disease present)\n",
    "### Prediction: LOW RISK (Probably 0 - healthy)"
   ]
  },
  {
   "cell_type": "code",
   "execution_count": 281,
   "id": "31181d0f",
   "metadata": {},
   "outputs": [
    {
     "name": "stdout",
     "output_type": "stream",
     "text": [
      "Pridecting Heart Disease : [1]\n",
      "'HIGH RISK' you have to go hospital to checkup\n"
     ]
    }
   ],
   "source": [
    "new_data = [[ 0.94,1.21, 0.85, -1.10,  1.80,  1.20, 0.0, 1.0, 1.0, 0.0, 0.0, 0.0, 1.0, 0.0, 0.0, \n",
    "            0.0, 1.0, 0.0, 1.0, 1.0, 0.0, 0.0,  0.0, 0.0,1.0]]  \n",
    "\n",
    "predict_Heart_Disease = model.predict(new_data)\n",
    "print(\"Pridecting Heart Disease :\" ,predict_Heart_Disease)\n",
    "if predict_Heart_Disease==predict_Heart_Disease:\n",
    "    print(\"'HIGH RISK' you have to go hospital to checkup\")"
   ]
  },
  {
   "cell_type": "code",
   "execution_count": null,
   "id": "4b8f0f6c",
   "metadata": {},
   "outputs": [
    {
     "name": "stdout",
     "output_type": "stream",
     "text": [
      "predict_Heart_Disease :  [0]\n",
      "your healthy Stay safe\n"
     ]
    }
   ],
   "source": [
    "new_data_2 = [[-1.20,   # num__age: Younger than average\n",
    " -0.50,   # num__trestbps: Normal BP\n",
    " -0.30,   # num__chol: Normal cholesterol\n",
    "  0.90,   # num__thalch: Good max heart rate\n",
    " -0.50,   # num__oldpeak: Minimal ST depression\n",
    " -0.80,   # num__ca: No vessels colored\n",
    "  1.0,    # cat__sex_Female: Is female\n",
    "  0.0,    # cat__sex_Male: Not male\n",
    "  0.0,    # cat__cp_asymptomatic: Not asymptomatic\n",
    "  0.0,    # cat__cp_atypical angina: Not atypical\n",
    "  1.0,    # cat__cp_non-anginal: Non-anginal pain\n",
    "  0.0,    # cat__cp_typical angina: Not typical\n",
    "  1.0,    # cat__fbs_False: Fasting blood sugar <= 120\n",
    "  0.0,    # cat__fbs_True: Not > 120\n",
    "  0.0,    # cat__restecg_lv hypertrophy: No hypertrophy\n",
    "  1.0,    # cat__restecg_normal: Normal ECG\n",
    "  0.0,    # cat__restecg_st-t abnormality: No abnormality\n",
    "  1.0,    # cat__exang_False: NO exercise angina\n",
    "  0.0,    # cat__exang_True: Not exercise angina\n",
    "  0.0,    # cat__slope_downsloping: Not downsloping\n",
    "  0.0,    # cat__slope_flat: Not flat\n",
    "  1.0,    # cat__slope_upsloping: Upsloping ST segment\n",
    "  0.0,    # cat__thal_fixed defect: Not fixed defect\n",
    "  1.0,    # cat__thal_normal: Normal thalassemia\n",
    "  0.0]]    # cat__thal_reversable defect: Not reversible defect\n",
    "\n",
    "predict_Heart_Disease2 = model.predict(new_data_2)\n",
    "print(\"predict_Heart_Disease : \" ,predict_Heart_Disease2)\n",
    "if predict_Heart_Disease2==predict_Heart_Disease2:\n",
    "  print(\"your healthy, Stay safe\")"
   ]
  }
 ],
 "metadata": {
  "kernelspec": {
   "display_name": "ank ss",
   "language": "python",
   "name": "python3"
  },
  "language_info": {
   "codemirror_mode": {
    "name": "ipython",
    "version": 3
   },
   "file_extension": ".py",
   "mimetype": "text/x-python",
   "name": "python",
   "nbconvert_exporter": "python",
   "pygments_lexer": "ipython3",
   "version": "3.12.7"
  }
 },
 "nbformat": 4,
 "nbformat_minor": 5
}

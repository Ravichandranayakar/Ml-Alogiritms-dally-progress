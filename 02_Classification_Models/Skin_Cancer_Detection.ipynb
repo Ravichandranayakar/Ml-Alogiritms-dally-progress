{
 "cells": [
  {
   "cell_type": "code",
   "execution_count": 30,
   "id": "73a26c79",
   "metadata": {},
   "outputs": [
    {
     "name": "stdout",
     "output_type": "stream",
     "text": [
      "Dataset shape: (2000, 24)\n",
      "\n",
      "Column names:\n",
      "['isic_id', 'attribution', 'copyright_license', 'age_approx', 'anatom_site_general', 'anatom_site_special', 'clin_size_long_diam_mm', 'concomitant_biopsy', 'dermoscopic_type', 'diagnosis_1', 'diagnosis_2', 'diagnosis_3', 'diagnosis_4', 'diagnosis_5', 'diagnosis_confirm_type', 'family_hx_mm', 'image_type', 'lesion_id', 'melanocytic', 'patient_id', 'personal_hx_mm', 'pixels_x', 'pixels_y', 'sex']\n",
      "\n",
      "First 5 rows:\n",
      "        isic_id attribution copyright_license  age_approx anatom_site_general  \\\n",
      "0  ISIC_0000000   Anonymous              CC-0        55.0      anterior torso   \n",
      "1  ISIC_0000001   Anonymous              CC-0        30.0      anterior torso   \n",
      "2  ISIC_0000002   Anonymous              CC-0        60.0     upper extremity   \n",
      "3  ISIC_0000003   Anonymous              CC-0        30.0     upper extremity   \n",
      "4  ISIC_0000004   Anonymous              CC-0        80.0     posterior torso   \n",
      "\n",
      "  anatom_site_special  clin_size_long_diam_mm  concomitant_biopsy  \\\n",
      "0                 NaN                     NaN               False   \n",
      "1                 NaN                     NaN               False   \n",
      "2                 NaN                     NaN                True   \n",
      "3                 NaN                     NaN               False   \n",
      "4                 NaN                     NaN                True   \n",
      "\n",
      "  dermoscopic_type diagnosis_1  ... diagnosis_confirm_type family_hx_mm  \\\n",
      "0              NaN      Benign  ...                    NaN          NaN   \n",
      "1              NaN      Benign  ...                    NaN          NaN   \n",
      "2              NaN   Malignant  ...         histopathology          NaN   \n",
      "3              NaN      Benign  ...                    NaN          NaN   \n",
      "4              NaN   Malignant  ...         histopathology          NaN   \n",
      "\n",
      "    image_type lesion_id melanocytic patient_id personal_hx_mm pixels_x  \\\n",
      "0  dermoscopic       NaN        True        NaN            NaN     1022   \n",
      "1  dermoscopic       NaN        True        NaN            NaN     1022   \n",
      "2  dermoscopic       NaN        True        NaN            NaN     1022   \n",
      "3  dermoscopic       NaN        True        NaN            NaN     1022   \n",
      "4  dermoscopic       NaN        True        NaN            NaN     1022   \n",
      "\n",
      "   pixels_y     sex  \n",
      "0       767  female  \n",
      "1       767  female  \n",
      "2       767  female  \n",
      "3       767    male  \n",
      "4       767    male  \n",
      "\n",
      "[5 rows x 24 columns]\n"
     ]
    }
   ],
   "source": [
    "import pandas as pd\n",
    "\n",
    "# Load the labels\n",
    "df = pd.read_csv('skin_cancer_labels.csv')\n",
    "print(\"Dataset shape:\", df.shape)\n",
    "print(\"\\nColumn names:\")\n",
    "print(df.columns.tolist())\n",
    "print(\"\\nFirst 5 rows:\")\n",
    "print(df.head())"
   ]
  },
  {
   "cell_type": "code",
   "execution_count": 31,
   "id": "b1d15a46",
   "metadata": {},
   "outputs": [
    {
     "name": "stdout",
     "output_type": "stream",
     "text": [
      "Dataset folder found at: skin_cancer_data\n"
     ]
    }
   ],
   "source": [
    "import os\n",
    "\n",
    "dataset_path = \"skin_cancer_data\"   # path where images are stored\n",
    "\n",
    "if os.path.exists(dataset_path):\n",
    "    print(f\"Dataset folder found at: {dataset_path}\")\n",
    "else:\n",
    "    print(\"Dataset folder not found! Please check the path.\")\n"
   ]
  },
  {
   "cell_type": "code",
   "execution_count": 32,
   "id": "ab4a1a20",
   "metadata": {},
   "outputs": [
    {
     "name": "stdout",
     "output_type": "stream",
     "text": [
      "Number of images: 2000\n",
      "First 5 image names:\n",
      "ISIC_0000000.jpg\n",
      "ISIC_0000001.jpg\n",
      "ISIC_0000002.jpg\n",
      "ISIC_0000003.jpg\n",
      "ISIC_0000004.jpg\n"
     ]
    }
   ],
   "source": [
    "import os\n",
    "\n",
    "# Check images folder\n",
    "image_folder = 'skin_cancer_data'\n",
    "image_files = os.listdir(image_folder)\n",
    "print(f\"Number of images: {len(image_files)}\")\n",
    "print(\"First 5 image names:\")\n",
    "for i in range(5):\n",
    "    print(image_files[i])"
   ]
  },
  {
   "cell_type": "code",
   "execution_count": 33,
   "id": "dff4f11c",
   "metadata": {},
   "outputs": [
    {
     "name": "stdout",
     "output_type": "stream",
     "text": [
      "Diagnosis distribution:\n",
      "diagnosis_1\n",
      "Benign           1625\n",
      "Malignant         374\n",
      "Indeterminate       1\n",
      "Name: count, dtype: int64\n",
      "\n",
      "Percentages:\n",
      "diagnosis_1\n",
      "Benign           81.25\n",
      "Malignant        18.70\n",
      "Indeterminate     0.05\n",
      "Name: proportion, dtype: float64\n"
     ]
    }
   ],
   "source": [
    "# Check how many benign vs malignant cases you have\n",
    "print(\"Diagnosis distribution:\")\n",
    "print(df['diagnosis_1'].value_counts())\n",
    "print(\"\\nPercentages:\")\n",
    "print(df['diagnosis_1'].value_counts(normalize=True) * 100)"
   ]
  },
  {
   "cell_type": "code",
   "execution_count": 34,
   "id": "61cc86d4",
   "metadata": {},
   "outputs": [
    {
     "name": "stdout",
     "output_type": "stream",
     "text": [
      "Number of images: 2000\n",
      "Sample image names:\n",
      "['ISIC_0000000.jpg', 'ISIC_0000001.jpg', 'ISIC_0000002.jpg']\n"
     ]
    }
   ],
   "source": [
    "import os\n",
    "image_folder = 'skin_cancer_data'\n",
    "image_files = os.listdir(image_folder)\n",
    "print(f\"Number of images: {len(image_files)}\")\n",
    "print(\"Sample image names:\")\n",
    "print(image_files[:3])"
   ]
  },
  {
   "cell_type": "code",
   "execution_count": null,
   "id": "60a345eb",
   "metadata": {},
   "outputs": [],
   "source": []
  }
 ],
 "metadata": {
  "kernelspec": {
   "display_name": ".venv (3.13.1)",
   "language": "python",
   "name": "python3"
  },
  "language_info": {
   "codemirror_mode": {
    "name": "ipython",
    "version": 3
   },
   "file_extension": ".py",
   "mimetype": "text/x-python",
   "name": "python",
   "nbconvert_exporter": "python",
   "pygments_lexer": "ipython3",
   "version": "3.13.1"
  }
 },
 "nbformat": 4,
 "nbformat_minor": 5
}

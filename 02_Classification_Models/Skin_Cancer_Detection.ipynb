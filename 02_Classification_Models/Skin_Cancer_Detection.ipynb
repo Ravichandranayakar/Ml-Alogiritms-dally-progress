{
 "cells": [
  {
   "cell_type": "markdown",
   "id": "7eb03072",
   "metadata": {},
   "source": [
    "# Project Name -----> Skin Cancer Detection"
   ]
  },
  {
   "cell_type": "code",
   "execution_count": 3,
   "id": "51cba6a0",
   "metadata": {},
   "outputs": [],
   "source": [
    "# importing requred libararies \n",
    "import os\n",
    "import pandas as pd\n",
    "import numpy as np\n",
    "import matplotlib.pyplot as plt\n",
    "import seaborn as sns\n",
    "from sklearn.neighbors import KNeighborsClassifier \n",
    "from sklearn.metrics import accuracy_score \n",
    "from sklearn.model_selection import train_test_split"
   ]
  },
  {
   "cell_type": "code",
   "execution_count": 4,
   "id": "73a26c79",
   "metadata": {},
   "outputs": [],
   "source": [
    "# Load the labels\n",
    "skin_data = pd.read_csv('skin_cancer_labels.csv') \n",
    "skin_data  =  skin_data.copy()\n"
   ]
  },
  {
   "cell_type": "code",
   "execution_count": 5,
   "id": "5cc9af15",
   "metadata": {},
   "outputs": [
    {
     "data": {
      "text/html": [
       "<div>\n",
       "<style scoped>\n",
       "    .dataframe tbody tr th:only-of-type {\n",
       "        vertical-align: middle;\n",
       "    }\n",
       "\n",
       "    .dataframe tbody tr th {\n",
       "        vertical-align: top;\n",
       "    }\n",
       "\n",
       "    .dataframe thead th {\n",
       "        text-align: right;\n",
       "    }\n",
       "</style>\n",
       "<table border=\"1\" class=\"dataframe\">\n",
       "  <thead>\n",
       "    <tr style=\"text-align: right;\">\n",
       "      <th></th>\n",
       "      <th>isic_id</th>\n",
       "      <th>attribution</th>\n",
       "      <th>copyright_license</th>\n",
       "      <th>age_approx</th>\n",
       "      <th>anatom_site_general</th>\n",
       "      <th>anatom_site_special</th>\n",
       "      <th>clin_size_long_diam_mm</th>\n",
       "      <th>concomitant_biopsy</th>\n",
       "      <th>dermoscopic_type</th>\n",
       "      <th>diagnosis_1</th>\n",
       "      <th>...</th>\n",
       "      <th>diagnosis_confirm_type</th>\n",
       "      <th>family_hx_mm</th>\n",
       "      <th>image_type</th>\n",
       "      <th>lesion_id</th>\n",
       "      <th>melanocytic</th>\n",
       "      <th>patient_id</th>\n",
       "      <th>personal_hx_mm</th>\n",
       "      <th>pixels_x</th>\n",
       "      <th>pixels_y</th>\n",
       "      <th>sex</th>\n",
       "    </tr>\n",
       "  </thead>\n",
       "  <tbody>\n",
       "    <tr>\n",
       "      <th>0</th>\n",
       "      <td>ISIC_0000000</td>\n",
       "      <td>Anonymous</td>\n",
       "      <td>CC-0</td>\n",
       "      <td>55.0</td>\n",
       "      <td>anterior torso</td>\n",
       "      <td>NaN</td>\n",
       "      <td>NaN</td>\n",
       "      <td>False</td>\n",
       "      <td>NaN</td>\n",
       "      <td>Benign</td>\n",
       "      <td>...</td>\n",
       "      <td>NaN</td>\n",
       "      <td>NaN</td>\n",
       "      <td>dermoscopic</td>\n",
       "      <td>NaN</td>\n",
       "      <td>True</td>\n",
       "      <td>NaN</td>\n",
       "      <td>NaN</td>\n",
       "      <td>1022</td>\n",
       "      <td>767</td>\n",
       "      <td>female</td>\n",
       "    </tr>\n",
       "    <tr>\n",
       "      <th>1</th>\n",
       "      <td>ISIC_0000001</td>\n",
       "      <td>Anonymous</td>\n",
       "      <td>CC-0</td>\n",
       "      <td>30.0</td>\n",
       "      <td>anterior torso</td>\n",
       "      <td>NaN</td>\n",
       "      <td>NaN</td>\n",
       "      <td>False</td>\n",
       "      <td>NaN</td>\n",
       "      <td>Benign</td>\n",
       "      <td>...</td>\n",
       "      <td>NaN</td>\n",
       "      <td>NaN</td>\n",
       "      <td>dermoscopic</td>\n",
       "      <td>NaN</td>\n",
       "      <td>True</td>\n",
       "      <td>NaN</td>\n",
       "      <td>NaN</td>\n",
       "      <td>1022</td>\n",
       "      <td>767</td>\n",
       "      <td>female</td>\n",
       "    </tr>\n",
       "    <tr>\n",
       "      <th>2</th>\n",
       "      <td>ISIC_0000002</td>\n",
       "      <td>Anonymous</td>\n",
       "      <td>CC-0</td>\n",
       "      <td>60.0</td>\n",
       "      <td>upper extremity</td>\n",
       "      <td>NaN</td>\n",
       "      <td>NaN</td>\n",
       "      <td>True</td>\n",
       "      <td>NaN</td>\n",
       "      <td>Malignant</td>\n",
       "      <td>...</td>\n",
       "      <td>histopathology</td>\n",
       "      <td>NaN</td>\n",
       "      <td>dermoscopic</td>\n",
       "      <td>NaN</td>\n",
       "      <td>True</td>\n",
       "      <td>NaN</td>\n",
       "      <td>NaN</td>\n",
       "      <td>1022</td>\n",
       "      <td>767</td>\n",
       "      <td>female</td>\n",
       "    </tr>\n",
       "    <tr>\n",
       "      <th>3</th>\n",
       "      <td>ISIC_0000003</td>\n",
       "      <td>Anonymous</td>\n",
       "      <td>CC-0</td>\n",
       "      <td>30.0</td>\n",
       "      <td>upper extremity</td>\n",
       "      <td>NaN</td>\n",
       "      <td>NaN</td>\n",
       "      <td>False</td>\n",
       "      <td>NaN</td>\n",
       "      <td>Benign</td>\n",
       "      <td>...</td>\n",
       "      <td>NaN</td>\n",
       "      <td>NaN</td>\n",
       "      <td>dermoscopic</td>\n",
       "      <td>NaN</td>\n",
       "      <td>True</td>\n",
       "      <td>NaN</td>\n",
       "      <td>NaN</td>\n",
       "      <td>1022</td>\n",
       "      <td>767</td>\n",
       "      <td>male</td>\n",
       "    </tr>\n",
       "    <tr>\n",
       "      <th>4</th>\n",
       "      <td>ISIC_0000004</td>\n",
       "      <td>Anonymous</td>\n",
       "      <td>CC-0</td>\n",
       "      <td>80.0</td>\n",
       "      <td>posterior torso</td>\n",
       "      <td>NaN</td>\n",
       "      <td>NaN</td>\n",
       "      <td>True</td>\n",
       "      <td>NaN</td>\n",
       "      <td>Malignant</td>\n",
       "      <td>...</td>\n",
       "      <td>histopathology</td>\n",
       "      <td>NaN</td>\n",
       "      <td>dermoscopic</td>\n",
       "      <td>NaN</td>\n",
       "      <td>True</td>\n",
       "      <td>NaN</td>\n",
       "      <td>NaN</td>\n",
       "      <td>1022</td>\n",
       "      <td>767</td>\n",
       "      <td>male</td>\n",
       "    </tr>\n",
       "  </tbody>\n",
       "</table>\n",
       "<p>5 rows × 24 columns</p>\n",
       "</div>"
      ],
      "text/plain": [
       "        isic_id attribution copyright_license  age_approx anatom_site_general  \\\n",
       "0  ISIC_0000000   Anonymous              CC-0        55.0      anterior torso   \n",
       "1  ISIC_0000001   Anonymous              CC-0        30.0      anterior torso   \n",
       "2  ISIC_0000002   Anonymous              CC-0        60.0     upper extremity   \n",
       "3  ISIC_0000003   Anonymous              CC-0        30.0     upper extremity   \n",
       "4  ISIC_0000004   Anonymous              CC-0        80.0     posterior torso   \n",
       "\n",
       "  anatom_site_special  clin_size_long_diam_mm  concomitant_biopsy  \\\n",
       "0                 NaN                     NaN               False   \n",
       "1                 NaN                     NaN               False   \n",
       "2                 NaN                     NaN                True   \n",
       "3                 NaN                     NaN               False   \n",
       "4                 NaN                     NaN                True   \n",
       "\n",
       "  dermoscopic_type diagnosis_1  ... diagnosis_confirm_type family_hx_mm  \\\n",
       "0              NaN      Benign  ...                    NaN          NaN   \n",
       "1              NaN      Benign  ...                    NaN          NaN   \n",
       "2              NaN   Malignant  ...         histopathology          NaN   \n",
       "3              NaN      Benign  ...                    NaN          NaN   \n",
       "4              NaN   Malignant  ...         histopathology          NaN   \n",
       "\n",
       "    image_type lesion_id melanocytic patient_id personal_hx_mm pixels_x  \\\n",
       "0  dermoscopic       NaN        True        NaN            NaN     1022   \n",
       "1  dermoscopic       NaN        True        NaN            NaN     1022   \n",
       "2  dermoscopic       NaN        True        NaN            NaN     1022   \n",
       "3  dermoscopic       NaN        True        NaN            NaN     1022   \n",
       "4  dermoscopic       NaN        True        NaN            NaN     1022   \n",
       "\n",
       "   pixels_y     sex  \n",
       "0       767  female  \n",
       "1       767  female  \n",
       "2       767  female  \n",
       "3       767    male  \n",
       "4       767    male  \n",
       "\n",
       "[5 rows x 24 columns]"
      ]
     },
     "execution_count": 5,
     "metadata": {},
     "output_type": "execute_result"
    }
   ],
   "source": [
    "skin_data.head()"
   ]
  },
  {
   "cell_type": "code",
   "execution_count": 6,
   "id": "164fb6c5",
   "metadata": {},
   "outputs": [
    {
     "data": {
      "text/plain": [
       "isic_id                      0\n",
       "attribution                  0\n",
       "copyright_license            0\n",
       "age_approx                 256\n",
       "anatom_site_general        471\n",
       "anatom_site_special       1961\n",
       "clin_size_long_diam_mm    1538\n",
       "concomitant_biopsy           0\n",
       "dermoscopic_type          1190\n",
       "diagnosis_1                  0\n",
       "diagnosis_2                  0\n",
       "diagnosis_3                  1\n",
       "diagnosis_4               1354\n",
       "diagnosis_5               1752\n",
       "diagnosis_confirm_type     342\n",
       "family_hx_mm              1548\n",
       "image_type                   0\n",
       "lesion_id                 1246\n",
       "melanocytic                  0\n",
       "patient_id                1863\n",
       "personal_hx_mm            1539\n",
       "pixels_x                     0\n",
       "pixels_y                     0\n",
       "sex                        229\n",
       "dtype: int64"
      ]
     },
     "execution_count": 6,
     "metadata": {},
     "output_type": "execute_result"
    }
   ],
   "source": [
    "skin_data.isnull().sum()"
   ]
  },
  {
   "cell_type": "code",
   "execution_count": 7,
   "id": "1d96c8ed",
   "metadata": {},
   "outputs": [
    {
     "name": "stdout",
     "output_type": "stream",
     "text": [
      "<class 'pandas.core.frame.DataFrame'>\n",
      "RangeIndex: 2000 entries, 0 to 1999\n",
      "Data columns (total 24 columns):\n",
      " #   Column                  Non-Null Count  Dtype  \n",
      "---  ------                  --------------  -----  \n",
      " 0   isic_id                 2000 non-null   object \n",
      " 1   attribution             2000 non-null   object \n",
      " 2   copyright_license       2000 non-null   object \n",
      " 3   age_approx              1744 non-null   float64\n",
      " 4   anatom_site_general     1529 non-null   object \n",
      " 5   anatom_site_special     39 non-null     object \n",
      " 6   clin_size_long_diam_mm  462 non-null    float64\n",
      " 7   concomitant_biopsy      2000 non-null   bool   \n",
      " 8   dermoscopic_type        810 non-null    object \n",
      " 9   diagnosis_1             2000 non-null   object \n",
      " 10  diagnosis_2             2000 non-null   object \n",
      " 11  diagnosis_3             1999 non-null   object \n",
      " 12  diagnosis_4             646 non-null    object \n",
      " 13  diagnosis_5             248 non-null    object \n",
      " 14  diagnosis_confirm_type  1658 non-null   object \n",
      " 15  family_hx_mm            452 non-null    object \n",
      " 16  image_type              2000 non-null   object \n",
      " 17  lesion_id               754 non-null    object \n",
      " 18  melanocytic             2000 non-null   bool   \n",
      " 19  patient_id              137 non-null    object \n",
      " 20  personal_hx_mm          461 non-null    object \n",
      " 21  pixels_x                2000 non-null   int64  \n",
      " 22  pixels_y                2000 non-null   int64  \n",
      " 23  sex                     1771 non-null   object \n",
      "dtypes: bool(2), float64(2), int64(2), object(18)\n",
      "memory usage: 347.8+ KB\n"
     ]
    }
   ],
   "source": [
    "skin_data.info()"
   ]
  },
  {
   "cell_type": "code",
   "execution_count": 8,
   "id": "67183891",
   "metadata": {},
   "outputs": [
    {
     "data": {
      "text/plain": [
       "['isic_id',\n",
       " 'attribution',\n",
       " 'copyright_license',\n",
       " 'age_approx',\n",
       " 'anatom_site_general',\n",
       " 'anatom_site_special',\n",
       " 'clin_size_long_diam_mm',\n",
       " 'concomitant_biopsy',\n",
       " 'dermoscopic_type',\n",
       " 'diagnosis_1',\n",
       " 'diagnosis_2',\n",
       " 'diagnosis_3',\n",
       " 'diagnosis_4',\n",
       " 'diagnosis_5',\n",
       " 'diagnosis_confirm_type',\n",
       " 'family_hx_mm',\n",
       " 'image_type',\n",
       " 'lesion_id',\n",
       " 'melanocytic',\n",
       " 'patient_id',\n",
       " 'personal_hx_mm',\n",
       " 'pixels_x',\n",
       " 'pixels_y',\n",
       " 'sex']"
      ]
     },
     "execution_count": 8,
     "metadata": {},
     "output_type": "execute_result"
    }
   ],
   "source": [
    "skin_data.columns.to_list()"
   ]
  },
  {
   "cell_type": "code",
   "execution_count": 9,
   "id": "81e3e959",
   "metadata": {},
   "outputs": [
    {
     "data": {
      "text/html": [
       "<div>\n",
       "<style scoped>\n",
       "    .dataframe tbody tr th:only-of-type {\n",
       "        vertical-align: middle;\n",
       "    }\n",
       "\n",
       "    .dataframe tbody tr th {\n",
       "        vertical-align: top;\n",
       "    }\n",
       "\n",
       "    .dataframe thead th {\n",
       "        text-align: right;\n",
       "    }\n",
       "</style>\n",
       "<table border=\"1\" class=\"dataframe\">\n",
       "  <thead>\n",
       "    <tr style=\"text-align: right;\">\n",
       "      <th></th>\n",
       "      <th>age_approx</th>\n",
       "      <th>clin_size_long_diam_mm</th>\n",
       "      <th>pixels_x</th>\n",
       "      <th>pixels_y</th>\n",
       "    </tr>\n",
       "  </thead>\n",
       "  <tbody>\n",
       "    <tr>\n",
       "      <th>count</th>\n",
       "      <td>1744.000000</td>\n",
       "      <td>462.000000</td>\n",
       "      <td>2000.000000</td>\n",
       "      <td>2000.000000</td>\n",
       "    </tr>\n",
       "    <tr>\n",
       "      <th>mean</th>\n",
       "      <td>49.033830</td>\n",
       "      <td>6.030952</td>\n",
       "      <td>2734.293000</td>\n",
       "      <td>1877.673000</td>\n",
       "    </tr>\n",
       "    <tr>\n",
       "      <th>std</th>\n",
       "      <td>19.731372</td>\n",
       "      <td>5.512854</td>\n",
       "      <td>1682.314035</td>\n",
       "      <td>1081.419839</td>\n",
       "    </tr>\n",
       "    <tr>\n",
       "      <th>min</th>\n",
       "      <td>5.000000</td>\n",
       "      <td>1.000000</td>\n",
       "      <td>576.000000</td>\n",
       "      <td>540.000000</td>\n",
       "    </tr>\n",
       "    <tr>\n",
       "      <th>25%</th>\n",
       "      <td>35.000000</td>\n",
       "      <td>4.000000</td>\n",
       "      <td>1024.000000</td>\n",
       "      <td>768.000000</td>\n",
       "    </tr>\n",
       "    <tr>\n",
       "      <th>50%</th>\n",
       "      <td>50.000000</td>\n",
       "      <td>5.000000</td>\n",
       "      <td>3008.000000</td>\n",
       "      <td>2000.000000</td>\n",
       "    </tr>\n",
       "    <tr>\n",
       "      <th>75%</th>\n",
       "      <td>65.000000</td>\n",
       "      <td>7.000000</td>\n",
       "      <td>4288.000000</td>\n",
       "      <td>2848.000000</td>\n",
       "    </tr>\n",
       "    <tr>\n",
       "      <th>max</th>\n",
       "      <td>85.000000</td>\n",
       "      <td>100.000000</td>\n",
       "      <td>6748.000000</td>\n",
       "      <td>4499.000000</td>\n",
       "    </tr>\n",
       "  </tbody>\n",
       "</table>\n",
       "</div>"
      ],
      "text/plain": [
       "        age_approx  clin_size_long_diam_mm     pixels_x     pixels_y\n",
       "count  1744.000000              462.000000  2000.000000  2000.000000\n",
       "mean     49.033830                6.030952  2734.293000  1877.673000\n",
       "std      19.731372                5.512854  1682.314035  1081.419839\n",
       "min       5.000000                1.000000   576.000000   540.000000\n",
       "25%      35.000000                4.000000  1024.000000   768.000000\n",
       "50%      50.000000                5.000000  3008.000000  2000.000000\n",
       "75%      65.000000                7.000000  4288.000000  2848.000000\n",
       "max      85.000000              100.000000  6748.000000  4499.000000"
      ]
     },
     "execution_count": 9,
     "metadata": {},
     "output_type": "execute_result"
    }
   ],
   "source": [
    "skin_data.describe()"
   ]
  },
  {
   "cell_type": "code",
   "execution_count": 10,
   "id": "df18f86d",
   "metadata": {},
   "outputs": [
    {
     "data": {
      "text/plain": [
       "0       female\n",
       "1       female\n",
       "2       female\n",
       "3         male\n",
       "4         male\n",
       "         ...  \n",
       "1995      male\n",
       "1996      male\n",
       "1997    female\n",
       "1998      male\n",
       "1999      male\n",
       "Name: sex, Length: 2000, dtype: object"
      ]
     },
     "execution_count": 10,
     "metadata": {},
     "output_type": "execute_result"
    }
   ],
   "source": [
    "skin_data.sex"
   ]
  },
  {
   "cell_type": "code",
   "execution_count": 11,
   "id": "59251a96",
   "metadata": {},
   "outputs": [
    {
     "data": {
      "text/plain": [
       "(2000, 24)"
      ]
     },
     "execution_count": 11,
     "metadata": {},
     "output_type": "execute_result"
    }
   ],
   "source": [
    "# shape of data\n",
    "skin_data.shape"
   ]
  },
  {
   "cell_type": "code",
   "execution_count": 12,
   "id": "ab4a1a20",
   "metadata": {},
   "outputs": [
    {
     "name": "stdout",
     "output_type": "stream",
     "text": [
      "Number of images: 2000\n",
      "First 5 image names:\n",
      "ISIC_0000000.jpg\n",
      "ISIC_0000001.jpg\n",
      "ISIC_0000002.jpg\n",
      "ISIC_0000003.jpg\n",
      "ISIC_0000004.jpg\n"
     ]
    }
   ],
   "source": [
    "# Checking  images folder\n",
    "image_folder = 'skin_cancer_data'\n",
    "image_files = os.listdir(image_folder)\n",
    "print(f\"Number of images: {len(image_files)}\")\n",
    "print(\"First 5 image names:\")\n",
    "for i in range(5):\n",
    "    print(image_files[i])"
   ]
  },
  {
   "cell_type": "code",
   "execution_count": 13,
   "id": "dff4f11c",
   "metadata": {},
   "outputs": [
    {
     "name": "stdout",
     "output_type": "stream",
     "text": [
      "Diagnosis distribution:\n",
      "diagnosis_1\n",
      "Benign           1625\n",
      "Malignant         374\n",
      "Indeterminate       1\n",
      "Name: count, dtype: int64\n",
      "\n",
      "Percentages:\n",
      "diagnosis_1\n",
      "Benign           81.25\n",
      "Malignant        18.70\n",
      "Indeterminate     0.05\n",
      "Name: proportion, dtype: float64\n"
     ]
    }
   ],
   "source": [
    "# Check how many benign vs malignant cases you have\n",
    "print(\"Diagnosis distribution:\")\n",
    "print(skin_data['diagnosis_1'].value_counts())\n",
    "print(\"\\nPercentages:\")\n",
    "print(skin_data['diagnosis_1'].value_counts(normalize=True) * 100)"
   ]
  },
  {
   "cell_type": "code",
   "execution_count": 14,
   "id": "61cc86d4",
   "metadata": {},
   "outputs": [
    {
     "name": "stdout",
     "output_type": "stream",
     "text": [
      "Number of images: 2000\n",
      "Sample image names:\n",
      "['ISIC_0000000.jpg', 'ISIC_0000001.jpg', 'ISIC_0000002.jpg']\n"
     ]
    }
   ],
   "source": [
    "image_folder = 'skin_cancer_data'\n",
    "image_files = os.listdir(image_folder)\n",
    "print(f\"Number of images: {len(image_files)}\")\n",
    "print(\"Sample image names:\")\n",
    "print(image_files[:3])"
   ]
  },
  {
   "cell_type": "code",
   "execution_count": 15,
   "id": "d0d91877",
   "metadata": {},
   "outputs": [
    {
     "data": {
      "text/plain": [
       "Index(['isic_id', 'attribution', 'copyright_license', 'age_approx',\n",
       "       'anatom_site_general', 'anatom_site_special', 'clin_size_long_diam_mm',\n",
       "       'concomitant_biopsy', 'dermoscopic_type', 'diagnosis_1', 'diagnosis_2',\n",
       "       'diagnosis_3', 'diagnosis_4', 'diagnosis_5', 'diagnosis_confirm_type',\n",
       "       'family_hx_mm', 'image_type', 'lesion_id', 'melanocytic', 'patient_id',\n",
       "       'personal_hx_mm', 'pixels_x', 'pixels_y', 'sex'],\n",
       "      dtype='object')"
      ]
     },
     "execution_count": 15,
     "metadata": {},
     "output_type": "execute_result"
    }
   ],
   "source": [
    "skin_data.columns   "
   ]
  },
  {
   "cell_type": "code",
   "execution_count": 16,
   "id": "cb8da6c4",
   "metadata": {},
   "outputs": [],
   "source": [
    "# removing unwanted columns \n",
    "skin_data.drop(['attribution','copyright_license','diagnosis_2','diagnosis_3','diagnosis_4',\n",
    "                'diagnosis_5','pixels_x','pixels_y','patient_id','lesion_id','anatom_site_general',\n",
    "                'anatom_site_special', 'concomitant_biopsy', 'dermoscopic_type',\n",
    "                'diagnosis_confirm_type','family_hx_mm','image_type','personal_hx_mm','melanocytic'], axis=1 , inplace=True)"
   ]
  },
  {
   "cell_type": "code",
   "execution_count": 17,
   "id": "b64200dc",
   "metadata": {},
   "outputs": [
    {
     "data": {
      "text/html": [
       "<div>\n",
       "<style scoped>\n",
       "    .dataframe tbody tr th:only-of-type {\n",
       "        vertical-align: middle;\n",
       "    }\n",
       "\n",
       "    .dataframe tbody tr th {\n",
       "        vertical-align: top;\n",
       "    }\n",
       "\n",
       "    .dataframe thead th {\n",
       "        text-align: right;\n",
       "    }\n",
       "</style>\n",
       "<table border=\"1\" class=\"dataframe\">\n",
       "  <thead>\n",
       "    <tr style=\"text-align: right;\">\n",
       "      <th></th>\n",
       "      <th>isic_id</th>\n",
       "      <th>age_approx</th>\n",
       "      <th>clin_size_long_diam_mm</th>\n",
       "      <th>diagnosis_1</th>\n",
       "      <th>sex</th>\n",
       "    </tr>\n",
       "  </thead>\n",
       "  <tbody>\n",
       "    <tr>\n",
       "      <th>0</th>\n",
       "      <td>ISIC_0000000</td>\n",
       "      <td>55.0</td>\n",
       "      <td>NaN</td>\n",
       "      <td>Benign</td>\n",
       "      <td>female</td>\n",
       "    </tr>\n",
       "    <tr>\n",
       "      <th>1</th>\n",
       "      <td>ISIC_0000001</td>\n",
       "      <td>30.0</td>\n",
       "      <td>NaN</td>\n",
       "      <td>Benign</td>\n",
       "      <td>female</td>\n",
       "    </tr>\n",
       "    <tr>\n",
       "      <th>2</th>\n",
       "      <td>ISIC_0000002</td>\n",
       "      <td>60.0</td>\n",
       "      <td>NaN</td>\n",
       "      <td>Malignant</td>\n",
       "      <td>female</td>\n",
       "    </tr>\n",
       "    <tr>\n",
       "      <th>3</th>\n",
       "      <td>ISIC_0000003</td>\n",
       "      <td>30.0</td>\n",
       "      <td>NaN</td>\n",
       "      <td>Benign</td>\n",
       "      <td>male</td>\n",
       "    </tr>\n",
       "    <tr>\n",
       "      <th>4</th>\n",
       "      <td>ISIC_0000004</td>\n",
       "      <td>80.0</td>\n",
       "      <td>NaN</td>\n",
       "      <td>Malignant</td>\n",
       "      <td>male</td>\n",
       "    </tr>\n",
       "  </tbody>\n",
       "</table>\n",
       "</div>"
      ],
      "text/plain": [
       "        isic_id  age_approx  clin_size_long_diam_mm diagnosis_1     sex\n",
       "0  ISIC_0000000        55.0                     NaN      Benign  female\n",
       "1  ISIC_0000001        30.0                     NaN      Benign  female\n",
       "2  ISIC_0000002        60.0                     NaN   Malignant  female\n",
       "3  ISIC_0000003        30.0                     NaN      Benign    male\n",
       "4  ISIC_0000004        80.0                     NaN   Malignant    male"
      ]
     },
     "execution_count": 17,
     "metadata": {},
     "output_type": "execute_result"
    }
   ],
   "source": [
    "skin_data.head() #'isic_id', 'diagnosis_1', 'clin_size_long_diam_mm', 'age_approx'"
   ]
  },
  {
   "cell_type": "code",
   "execution_count": 18,
   "id": "0126b81f",
   "metadata": {},
   "outputs": [
    {
     "data": {
      "text/plain": [
       "isic_id                      0\n",
       "age_approx                 256\n",
       "clin_size_long_diam_mm    1538\n",
       "diagnosis_1                  0\n",
       "sex                        229\n",
       "dtype: int64"
      ]
     },
     "execution_count": 18,
     "metadata": {},
     "output_type": "execute_result"
    }
   ],
   "source": [
    "skin_data.isnull().sum()"
   ]
  },
  {
   "cell_type": "code",
   "execution_count": null,
   "id": "60a345eb",
   "metadata": {},
   "outputs": [],
   "source": [
    "# Removig the 1 indeterminate case another method is drop \n",
    "\n",
    "skin_data_clean = skin_data[skin_data['diagnosis_1'] != 'Indeterminate']\n",
    "\n",
    "# balancing the dataset \n",
    "malignant = skin_data_clean[skin_data_clean['diagnosis_1']=='Malignant']\n",
    "bengin = skin_data_clean[skin_data_clean['diagnosis_1']=='Benign'].sample(374 , random_state=42) # 374 cases\n",
    "skin_balanced = pd.concat([malignant ,bengin])\n",
    "\n"
   ]
  },
  {
   "cell_type": "code",
   "execution_count": 20,
   "id": "e0eff369",
   "metadata": {},
   "outputs": [
    {
     "data": {
      "text/plain": [
       "isic_id       age_approx  clin_size_long_diam_mm  diagnosis_1  sex   \n",
       "ISIC_0009868  70.0        4.0                     Malignant    female    1\n",
       "ISIC_0009871  45.0        5.0                     Benign       male      1\n",
       "ISIC_0009873  40.0        10.0                    Benign       female    1\n",
       "ISIC_0009882  60.0        5.0                     Malignant    female    1\n",
       "ISIC_0009896  30.0        9.0                     Benign       male      1\n",
       "                                                                        ..\n",
       "ISIC_0011348  75.0        6.0                     Malignant    male      1\n",
       "ISIC_0011349  65.0        12.0                    Malignant    male      1\n",
       "ISIC_0011366  65.0        8.0                     Malignant    male      1\n",
       "ISIC_0011387  65.0        8.0                     Malignant    female    1\n",
       "ISIC_0011393  70.0        2.0                     Benign       female    1\n",
       "Name: count, Length: 173, dtype: int64"
      ]
     },
     "execution_count": 20,
     "metadata": {},
     "output_type": "execute_result"
    }
   ],
   "source": [
    "skin_balanced.value_counts()"
   ]
  },
  {
   "cell_type": "code",
   "execution_count": null,
   "id": "df30c7a7",
   "metadata": {},
   "outputs": [],
   "source": []
  }
 ],
 "metadata": {
  "kernelspec": {
   "display_name": ".venv (3.13.1)",
   "language": "python",
   "name": "python3"
  },
  "language_info": {
   "codemirror_mode": {
    "name": "ipython",
    "version": 3
   },
   "file_extension": ".py",
   "mimetype": "text/x-python",
   "name": "python",
   "nbconvert_exporter": "python",
   "pygments_lexer": "ipython3",
   "version": "3.13.1"
  }
 },
 "nbformat": 4,
 "nbformat_minor": 5
}
